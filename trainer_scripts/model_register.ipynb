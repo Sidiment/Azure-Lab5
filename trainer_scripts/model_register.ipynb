{
 "cells": [
  {
   "cell_type": "code",
   "execution_count": null,
   "id": "fa79b6b9-032f-422f-9b09-c9270da48495",
   "metadata": {},
   "outputs": [],
   "source": [
    "import os\n",
    "\n",
    "dependencies_dir = \"./dependencies\"\n",
    "os.makedirs(dependencies_dir, exist_ok=True)"
   ]
  },
  {
   "cell_type": "code",
   "execution_count": null,
   "id": "bf150c94-7a13-480c-8b9f-fd93fc8154a9",
   "metadata": {},
   "outputs": [],
   "source": [
    "%%writefile {dependencies_dir}/conda.yaml\n",
    "name: model-env\n",
    "channels:\n",
    "  - conda-forge\n",
    "  - defaults\n",
    "dependencies:\n",
    "  - python=3.8\n",
    "  - numpy>=1.21\n",
    "  - pip\n",
    "  - scikit-learn>=1.0\n",
    "  - scipy>=1.7\n",
    "  - pandas>=1.1,<1.2\n",
    "  - pip:\n",
    "    - tensorflow>=2.9,<2.12\n",
    "    - mlflow\n",
    "    - azureml-mlflow\n",
    "    - azureml-defaults\n",
    "    - inference-schema[numpy-support]\n",
    "    - matplotlib\n",
    "    - psutil\n",
    "    - tqdm\n",
    "    - ipykernel"
   ]
  },
  {
   "cell_type": "code",
   "execution_count": null,
   "id": "928a99de-0388-4fc9-9127-d8ff539814ae",
   "metadata": {},
   "outputs": [],
   "source": [
    "from azure.ai.ml import MLClient\n",
    "from azure.identity import DefaultAzureCredential\n",
    "from azure.ai.ml.entities import (\n",
    "    Model, Environment, ManagedOnlineEndpoint, ManagedOnlineDeployment\n",
    ")\n",
    "from azure.ai.ml.constants import AssetTypes\n",
    "import datetime\n",
    "\n",
    "# authenticate\n",
    "credential = DefaultAzureCredential()\n",
    "\n",
    "# Set up MLClient\n",
    "SUBSCRIPTION = \"32db2fa6-ec70-4556-b00d-6f62d3bd119a\" # Adjust to your setup\n",
    "RESOURCE_GROUP = \"TECHIN515-lab\" # Adjust to your setup\n",
    "WS_NAME = \"TECHIN515-lab\" # Adjust to your setup\n",
    "# Get a handle to the workspace\n",
    "ml_client = MLClient(\n",
    "    credential=credential,\n",
    "    subscription_id=SUBSCRIPTION,\n",
    "    resource_group_name=RESOURCE_GROUP,\n",
    "    workspace_name=WS_NAME,\n",
    ")\n",
    "\n",
    "# Register the model\n",
    "model = ml_client.models.create_or_update(\n",
    "    Model(\n",
    "        path=\"wand_model.h5\",\n",
    "        name=\"wand-gesture-model\",\n",
    "        type=AssetTypes.CUSTOM_MODEL,\n",
    "        description=\"Trained gesture model for wand detection\"\n",
    "    )\n",
    ")\n",
    "\n",
    "# Create or reuse an environment\n",
    "env = Environment(\n",
    "    name=\"wand-inference-env\",\n",
    "    description=\"Inference environment for wand model\",\n",
    "    image=\"mcr.microsoft.com/azureml/openmpi4.1.0-ubuntu20.04:latest\",\n",
    "    conda_file=\"dependencies/conda.yaml\",\n",
    ")\n",
    "env = ml_client.environments.create_or_update(env)\n",
    "\n",
    "# Create unique endpoint name using timestamp\n",
    "timestamp = datetime.datetime.now().strftime(\"%Y%m%d%H%M%S\")\n",
    "endpoint_name = f\"wand-endpoint-{timestamp}\"\n",
    "\n",
    "# Define the endpoint\n",
    "endpoint = ManagedOnlineEndpoint(\n",
    "    name=endpoint_name,\n",
    "    description=\"Wand gesture classification endpoint\",\n",
    "    auth_mode=\"key\"\n",
    ")\n",
    "ml_client.begin_create_or_update(endpoint).result()"
   ]
  },
  {
   "cell_type": "code",
   "execution_count": null,
   "id": "63c34c91-6b9d-4821-ae29-2e25c07a126f",
   "metadata": {},
   "outputs": [],
   "source": []
  }
 ],
 "metadata": {
  "kernelspec": {
   "display_name": "Python 3.10 - SDK v2",
   "language": "python",
   "name": "python310-sdkv2"
  },
  "language_info": {
   "codemirror_mode": {
    "name": "ipython",
    "version": 3
   },
   "file_extension": ".py",
   "mimetype": "text/x-python",
   "name": "python",
   "nbconvert_exporter": "python",
   "pygments_lexer": "ipython3",
   "version": "3.10.16"
  }
 },
 "nbformat": 4,
 "nbformat_minor": 5
}
